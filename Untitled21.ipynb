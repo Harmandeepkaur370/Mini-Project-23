{
  "nbformat": 4,
  "nbformat_minor": 0,
  "metadata": {
    "colab": {
      "provenance": [],
      "authorship_tag": "ABX9TyOtaiXyoTvP9+Uu/Tng6AzK",
      "include_colab_link": true
    },
    "kernelspec": {
      "name": "python3",
      "display_name": "Python 3"
    },
    "language_info": {
      "name": "python"
    }
  },
  "cells": [
    {
      "cell_type": "markdown",
      "metadata": {
        "id": "view-in-github",
        "colab_type": "text"
      },
      "source": [
        "<a href=\"https://colab.research.google.com/github/Harmandeepkaur370/Mini-Project-23/blob/main/Untitled21.ipynb\" target=\"_parent\"><img src=\"https://colab.research.google.com/assets/colab-badge.svg\" alt=\"Open In Colab\"/></a>"
      ]
    },
    {
      "cell_type": "code",
      "execution_count": null,
      "metadata": {
        "colab": {
          "base_uri": "https://localhost:8080/"
        },
        "id": "syiA1tzSIQI4",
        "outputId": "5d0e6113-d6c0-4cf2-9364-85edfcd8cbdb"
      },
      "outputs": [
        {
          "output_type": "stream",
          "name": "stdout",
          "text": [
            "Collecting icrawler\n",
            "  Downloading icrawler-0.6.10-py3-none-any.whl.metadata (6.2 kB)\n",
            "Requirement already satisfied: beautifulsoup4 in /usr/local/lib/python3.11/dist-packages (from icrawler) (4.13.4)\n",
            "Collecting bs4 (from icrawler)\n",
            "  Downloading bs4-0.0.2-py2.py3-none-any.whl.metadata (411 bytes)\n",
            "Requirement already satisfied: lxml in /usr/local/lib/python3.11/dist-packages (from icrawler) (5.4.0)\n",
            "Requirement already satisfied: pillow in /usr/local/lib/python3.11/dist-packages (from icrawler) (11.2.1)\n",
            "Requirement already satisfied: pyyaml in /usr/local/lib/python3.11/dist-packages (from icrawler) (6.0.2)\n",
            "Requirement already satisfied: requests in /usr/local/lib/python3.11/dist-packages (from icrawler) (2.32.3)\n",
            "Requirement already satisfied: six in /usr/local/lib/python3.11/dist-packages (from icrawler) (1.17.0)\n",
            "Requirement already satisfied: soupsieve>1.2 in /usr/local/lib/python3.11/dist-packages (from beautifulsoup4->icrawler) (2.7)\n",
            "Requirement already satisfied: typing-extensions>=4.0.0 in /usr/local/lib/python3.11/dist-packages (from beautifulsoup4->icrawler) (4.14.0)\n",
            "Requirement already satisfied: charset-normalizer<4,>=2 in /usr/local/lib/python3.11/dist-packages (from requests->icrawler) (3.4.2)\n",
            "Requirement already satisfied: idna<4,>=2.5 in /usr/local/lib/python3.11/dist-packages (from requests->icrawler) (3.10)\n",
            "Requirement already satisfied: urllib3<3,>=1.21.1 in /usr/local/lib/python3.11/dist-packages (from requests->icrawler) (2.4.0)\n",
            "Requirement already satisfied: certifi>=2017.4.17 in /usr/local/lib/python3.11/dist-packages (from requests->icrawler) (2025.6.15)\n",
            "Downloading icrawler-0.6.10-py3-none-any.whl (36 kB)\n",
            "Downloading bs4-0.0.2-py2.py3-none-any.whl (1.2 kB)\n",
            "Installing collected packages: bs4, icrawler\n",
            "Successfully installed bs4-0.0.2 icrawler-0.6.10\n"
          ]
        }
      ],
      "source": [
        "!pip install icrawler"
      ]
    },
    {
      "cell_type": "code",
      "source": [
        "\n",
        "from icrawler.builtin import BingImageCrawler\n",
        "\n",
        "crawler = BingImageCrawler(storage={'root_dir': 'dog_images'})\n",
        "crawler.crawl(keyword='dog', max_num=100)"
      ],
      "metadata": {
        "colab": {
          "base_uri": "https://localhost:8080/"
        },
        "id": "yPsRz3BxISJq",
        "outputId": "4a4f0340-b3eb-4e37-ff84-19ae08ef3d89"
      },
      "execution_count": null,
      "outputs": [
        {
          "output_type": "stream",
          "name": "stderr",
          "text": [
            "ERROR:downloader:Response status code 404, file http://www.blogoftheworld.com/wp-content/uploads/2015/06/Cute-American-Staffordshire-Terrier-Puppies-Wallpaper.jpg\n",
            "ERROR:downloader:Response status code 404, file https://blogs.psychcentral.com/life-goals/files/2014/09/cute-dog-pup.jpg\n",
            "ERROR:downloader:Exception caught when downloading file https://get.wallhere.com/photo/1920x1080-px-animal-cute-dog-dogs-friendly-puppy-1651791.jpg, error: HTTPSConnectionPool(host='get.wallhere.com', port=443): Read timed out. (read timeout=5), remaining retry times: 2\n",
            "ERROR:downloader:Exception caught when downloading file https://get.wallhere.com/photo/1920x1080-px-animal-cute-dog-dogs-friendly-puppy-1651791.jpg, error: HTTPSConnectionPool(host='get.wallhere.com', port=443): Read timed out. (read timeout=5), remaining retry times: 1\n",
            "ERROR:downloader:Exception caught when downloading file https://get.wallhere.com/photo/1920x1080-px-animal-cute-dog-dogs-friendly-puppy-1651791.jpg, error: HTTPSConnectionPool(host='get.wallhere.com', port=443): Read timed out. (read timeout=5), remaining retry times: 0\n",
            "ERROR:downloader:Response status code 404, file https://upload.wikimedia.org/wikipedia/commons/thumb/6/62/Big_and_little_dog.jpg\n",
            "ERROR:downloader:Response status code 405, file https://www.sciencesetavenir.fr/assets/img/2022/06/20/cover-r4x3w1200-62b06f6eae183-caracteristiques-dogue-argentin.jpg\n",
            "ERROR:downloader:Response status code 403, file https://wapitielk.com/wp-content/uploads/2017/09/dogs.jpg\n",
            "ERROR:downloader:Response status code 403, file https://thelightofdog.com/wp-content/uploads/2019/08/2019_06_11_Puppies_DSC_8057.jpg\n",
            "ERROR:downloader:Response status code 403, file https://o.quizlet.com/Hko2q4tVGjfzUZDUNH2RsA_b.jpg\n",
            "ERROR:downloader:Response status code 403, file https://www.purina.com/sites/default/files/styles/2x1_small/public/2023-01/best-protein-for-dogs.jpg\n",
            "ERROR:downloader:Exception caught when downloading file https://get.wallhere.com/photo/1920x1265-px-animals-dog-1419987.jpg, error: HTTPSConnectionPool(host='get.wallhere.com', port=443): Read timed out. (read timeout=5), remaining retry times: 2\n",
            "ERROR:downloader:Exception caught when downloading file https://get.wallhere.com/photo/1920x1265-px-animals-dog-1419987.jpg, error: HTTPSConnectionPool(host='get.wallhere.com', port=443): Read timed out. (read timeout=5), remaining retry times: 1\n",
            "ERROR:downloader:Exception caught when downloading file https://get.wallhere.com/photo/1920x1265-px-animals-dog-1419987.jpg, error: HTTPSConnectionPool(host='get.wallhere.com', port=443): Read timed out. (read timeout=5), remaining retry times: 0\n"
          ]
        }
      ]
    },
    {
      "cell_type": "code",
      "source": [
        "import cv2\n",
        "import os\n",
        "\n",
        "input_folder = \"dog_images\"\n",
        "output_folder = \"dog_images_gray\"\n",
        "os.makedirs(output_folder, exist_ok=True)\n",
        "\n",
        "files = os.listdir(input_folder)\n",
        "\n",
        "for f in files[:100]:\n",
        "    img = cv2.imread(os.path.join(input_folder, f))\n",
        "    if img is None:\n",
        "        continue\n",
        "    gray = cv2.cvtColor(img, cv2.COLOR_BGR2GRAY)\n",
        "    cv2.imwrite(os.path.join(output_folder, f), gray)\n"
      ],
      "metadata": {
        "id": "sg02bdMzIARw"
      },
      "execution_count": null,
      "outputs": []
    }
  ]
}